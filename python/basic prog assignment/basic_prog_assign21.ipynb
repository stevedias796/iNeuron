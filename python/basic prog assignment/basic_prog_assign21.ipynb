{
 "cells": [
  {
   "cell_type": "markdown",
   "metadata": {},
   "source": [
    "Question1\n",
    "Write a function that takes a list and a number as arguments. Add the number to the end of\n",
    "the list, then remove the first element of the list. The function should then return the updated\n",
    "list."
   ]
  },
  {
   "cell_type": "code",
   "execution_count": 7,
   "metadata": {},
   "outputs": [
    {
     "name": "stdout",
     "output_type": "stream",
     "text": [
      "[6, 7, 8, 9, 1]\n",
      "[6, 3, 23, 17, 10]\n",
      "[10, 20, 42, 6]\n",
      "No list has been selected\n"
     ]
    }
   ],
   "source": [
    "def next_in_line(numlist, n):\n",
    "    if type(numlist) != list:\n",
    "        return \"Invalid input\"\n",
    "    if len(numlist) == 0:\n",
    "        return \"No list has been selected\"\n",
    "    numlist.append(n)\n",
    "    numlist.pop(0)\n",
    "    return numlist\n",
    "\n",
    "print(next_in_line([5,6,7,8,9], 1))\n",
    "print(next_in_line([7, 6, 3, 23, 17], 10))\n",
    "print(next_in_line([1, 10, 20, 42 ], 6))\n",
    "print(next_in_line([], 6))"
   ]
  },
  {
   "cell_type": "markdown",
   "metadata": {},
   "source": [
    "Question2\n",
    "Create the function that takes a list of dictionaries and returns the sum of people&#39;s budgets."
   ]
  },
  {
   "cell_type": "code",
   "execution_count": 11,
   "metadata": {},
   "outputs": [
    {
     "data": {
      "text/plain": [
       "65700"
      ]
     },
     "execution_count": 11,
     "metadata": {},
     "output_type": "execute_result"
    }
   ],
   "source": [
    "def get_budgets(dict_list):\n",
    "    try:\n",
    "        total_budget = 0 \n",
    "        for i in dict_list:\n",
    "            if type(i) != dict:\n",
    "                return \"List must contain dictionary\"\n",
    "            total_budget += i['budget']\n",
    "        return total_budget\n",
    "    except Exception as e:\n",
    "        return e\n",
    "\n",
    "get_budgets([{ 'name': 'John', 'age': 21, 'budget': 23000 },\n",
    "            { 'name': 'Steve', 'age': 32, 'budget': 40000 },\n",
    "            { 'name': 'Martin', 'age': 16, 'budget': 2700 }])"
   ]
  },
  {
   "cell_type": "markdown",
   "metadata": {},
   "source": [
    "Question3\n",
    "Create a function that takes a string and returns a string with its letters in alphabetical order."
   ]
  },
  {
   "cell_type": "code",
   "execution_count": 15,
   "metadata": {},
   "outputs": [
    {
     "name": "stdout",
     "output_type": "stream",
     "text": [
      "ehllo\n",
      "abdeit\n",
      "acehkr\n",
      "eegk\n"
     ]
    }
   ],
   "source": [
    "def alphabet_sort(word):\n",
    "    if type(word) != str:\n",
    "        return \"Invalid output\"\n",
    "    else:\n",
    "        l = list(word)\n",
    "        l.sort()\n",
    "        return ''.join(l)\n",
    "    \n",
    "print(alphabet_sort(\"hello\"))\n",
    "print(alphabet_sort(\"edabit\"))\n",
    "print(alphabet_sort(\"hacker\"))\n",
    "print(alphabet_sort(\"geek\"))"
   ]
  },
  {
   "cell_type": "markdown",
   "metadata": {},
   "source": [
    "Question4\n",
    "Suppose that you invest $10,000 for 10 years at an interest rate of 6% compounded monthly.\n",
    "What will be the value of your investment at the end of the 10 year period?\n",
    "Create a function that accepts the principal p, the term in years t, the interest rate r, and the\n",
    "number of compounding periods per year n. The function returns the value at the end of term\n",
    "rounded to the nearest cent.\n",
    "For the example above:\n",
    "compound_interest(10000, 10, 0.06, 12) ➞ 18193.97\n",
    "Note that the interest rate is given as a decimal and n=12 because with monthly compounding\n",
    "there are 12 periods per year. Compounding can also be done annually, quarterly, weekly, or\n",
    "daily.\n"
   ]
  },
  {
   "cell_type": "code",
   "execution_count": 2,
   "metadata": {},
   "outputs": [
    {
     "name": "stdout",
     "output_type": "stream",
     "text": [
      "Value of Investment: 18193.97\n"
     ]
    }
   ],
   "source": [
    "def compound_interest(p,y,r,n):\n",
    "    A = (p)*(1+r/n)**(n*y)\n",
    "    return round(A,2)\n",
    "\n",
    "#P = 896397.69+60000\n",
    "P = 10000\n",
    "#print(\"year no:\",i)\n",
    "#print(\"Amount for year\",i,\":\",P)\n",
    "ret = compound_interest(P, 10, 0.06, 12)\n",
    "print(\"Value of Investment:\",ret)\n",
    "    \n",
    "    "
   ]
  },
  {
   "cell_type": "markdown",
   "metadata": {},
   "source": [
    "\n",
    "Question5\n",
    "Create a function that takes a list of numbers between 1 and 10 (excluding one number) and\n",
    "returns the missing number.\n"
   ]
  },
  {
   "cell_type": "code",
   "execution_count": 64,
   "metadata": {},
   "outputs": [
    {
     "name": "stdout",
     "output_type": "stream",
     "text": [
      "[9, 2, 16]\n",
      "[81, 123]\n",
      "[1]\n"
     ]
    }
   ],
   "source": [
    "def return_only_integer(l):\n",
    "    i = 0\n",
    "    while(i <= len(l)-1):\n",
    "        if type(l[i]) != int:\n",
    "            l.remove(l[i])\n",
    "            if i != 0:\n",
    "                #decrement i only if index position is not 0\n",
    "                i -= 1\n",
    "        else:\n",
    "            i += 1\n",
    "    return l\n",
    "\n",
    "print(return_only_integer([9, 2, \"space\", \"car\", \"lion\", 16]))\n",
    "print(return_only_integer([\"hello\", 81, \"basketball\", 123, \"fox\"]))\n",
    "print(return_only_integer([\"String\", True, 3.3, 1]))"
   ]
  },
  {
   "cell_type": "code",
   "execution_count": null,
   "metadata": {},
   "outputs": [],
   "source": []
  }
 ],
 "metadata": {
  "kernelspec": {
   "display_name": "Python 3",
   "language": "python",
   "name": "python3"
  },
  "language_info": {
   "codemirror_mode": {
    "name": "ipython",
    "version": 3
   },
   "file_extension": ".py",
   "mimetype": "text/x-python",
   "name": "python",
   "nbconvert_exporter": "python",
   "pygments_lexer": "ipython3",
   "version": "3.6.5"
  }
 },
 "nbformat": 4,
 "nbformat_minor": 2
}
