{
 "cells": [
  {
   "cell_type": "markdown",
   "metadata": {},
   "source": [
    "Q. Write a Python Program to Find the Factorial of a Number?"
   ]
  },
  {
   "cell_type": "code",
   "execution_count": 7,
   "metadata": {},
   "outputs": [
    {
     "name": "stdout",
     "output_type": "stream",
     "text": [
      "Enter a number whose factorial you want: 5\n",
      "The Factorial of 5 is:\n",
      "120\n"
     ]
    }
   ],
   "source": [
    "num = int(input(\"Enter a number whose factorial you want: \"))\n",
    "num_fact = num\n",
    "print(\"The Factorial of\", num, \"is:\")\n",
    "while num > 1:\n",
    "    num_fact = num_fact * (num - 1)\n",
    "    num -= 1 \n",
    "print(num_fact)"
   ]
  },
  {
   "cell_type": "markdown",
   "metadata": {},
   "source": [
    "Q. Write a Python Program to Display the multiplication Table?"
   ]
  },
  {
   "cell_type": "code",
   "execution_count": 9,
   "metadata": {},
   "outputs": [
    {
     "name": "stdout",
     "output_type": "stream",
     "text": [
      "Enter then number for whic you want to display the multiplication table:10\n",
      "10 x 1 = 10\n",
      "10 x 2 = 20\n",
      "10 x 3 = 30\n",
      "10 x 4 = 40\n",
      "10 x 5 = 50\n",
      "10 x 6 = 60\n",
      "10 x 7 = 70\n",
      "10 x 8 = 80\n",
      "10 x 9 = 90\n",
      "10 x 10 = 100\n"
     ]
    }
   ],
   "source": [
    "num = int(input(\"Enter then number for whic you want to display the multiplication table:\"))\n",
    "for i in range(1,11):\n",
    "    print(num, \"x\", i, \"=\", num*i)"
   ]
  },
  {
   "cell_type": "markdown",
   "metadata": {},
   "source": [
    "Q. Write a Python Program to Print the Fibonacci sequence?"
   ]
  },
  {
   "cell_type": "code",
   "execution_count": 4,
   "metadata": {},
   "outputs": [
    {
     "name": "stdout",
     "output_type": "stream",
     "text": [
      "Enter the nth number for fibonacci range: 10\n",
      "\n",
      "The Fibonacci series for the given range\n",
      "0\n",
      "1\n",
      "1\n",
      "2\n",
      "3\n",
      "5\n",
      "8\n",
      "13\n",
      "21\n",
      "34\n"
     ]
    }
   ],
   "source": [
    "n = int(input(\"Enter the nth number for fibonacci range: \"))\n",
    "fib = [0,1]\n",
    "print(\"\\nThe Fibonacci series for the given range\")\n",
    "for i in range(n):\n",
    "    if i == 0 or i == 1:\n",
    "        print(fib[i])\n",
    "    else:\n",
    "        sum = fib[i-1] + fib[i-2]\n",
    "        fib.append(sum)\n",
    "        print(fib[i])\n"
   ]
  },
  {
   "cell_type": "markdown",
   "metadata": {},
   "source": [
    "Q. Write a Python Program to Check Armstrong Number?"
   ]
  },
  {
   "cell_type": "code",
   "execution_count": 14,
   "metadata": {},
   "outputs": [
    {
     "name": "stdout",
     "output_type": "stream",
     "text": [
      "Enter a number to check if it is an armstrong number: 371\n",
      "371 is an Armstrong number\n"
     ]
    }
   ],
   "source": [
    "arm = input(\"Enter a number to check if it is an armstrong number: \")\n",
    "sum = 0\n",
    "for i in range(len(arm)):\n",
    "    sum += int(arm[i])**3\n",
    "if sum == int(arm):\n",
    "    print(arm, \"is an Armstrong number\")\n",
    "else:\n",
    "    print(arm, \"is not an Armstrong number\")"
   ]
  },
  {
   "cell_type": "markdown",
   "metadata": {},
   "source": [
    "Q. Write a Python Program to Find Armstrong Number in an Interval?"
   ]
  },
  {
   "cell_type": "code",
   "execution_count": 5,
   "metadata": {},
   "outputs": [
    {
     "name": "stdout",
     "output_type": "stream",
     "text": [
      "Enter the range on armstrong number: 5\n",
      "0\n",
      "1\n",
      "153\n",
      "370\n",
      "371\n"
     ]
    }
   ],
   "source": [
    "arm_range = int(input(\"Enter the range of rmstrong number: \"))\n",
    "count, num = 0, 0\n",
    "while count < arm_range:\n",
    "    sum = 0\n",
    "    for i in range(len(str(num))):\n",
    "        sum += int(str(num)[i])**3\n",
    "    if sum == num:\n",
    "        print(num)\n",
    "        count += 1\n",
    "    num += 1    "
   ]
  },
  {
   "cell_type": "markdown",
   "metadata": {},
   "source": [
    "Q. Write a Python Program to Find the Sum of Natural Numbers?"
   ]
  },
  {
   "cell_type": "code",
   "execution_count": 8,
   "metadata": {},
   "outputs": [
    {
     "name": "stdout",
     "output_type": "stream",
     "text": [
      "Enter the range of natural numbers:10\n",
      "The sum of first 10 Natural numbers is 55\n"
     ]
    }
   ],
   "source": [
    "n = int(input(\"Enter the range of natural numbers:\"))\n",
    "sum = 0\n",
    "for i in range(1, n+1):\n",
    "    sum += i\n",
    "print(\"The sum of first\", n, \"Natural numbers is\", sum)\n",
    "        "
   ]
  },
  {
   "cell_type": "code",
   "execution_count": null,
   "metadata": {},
   "outputs": [],
   "source": []
  }
 ],
 "metadata": {
  "kernelspec": {
   "display_name": "Python 3",
   "language": "python",
   "name": "python3"
  },
  "language_info": {
   "codemirror_mode": {
    "name": "ipython",
    "version": 3
   },
   "file_extension": ".py",
   "mimetype": "text/x-python",
   "name": "python",
   "nbconvert_exporter": "python",
   "pygments_lexer": "ipython3",
   "version": "3.6.5"
  }
 },
 "nbformat": 4,
 "nbformat_minor": 2
}
