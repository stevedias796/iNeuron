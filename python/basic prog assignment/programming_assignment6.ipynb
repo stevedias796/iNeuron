{
 "cells": [
  {
   "cell_type": "markdown",
   "metadata": {},
   "source": [
    "Q. Write a Python Program to Display Fibonacci Sequence Using Recursion?"
   ]
  },
  {
   "cell_type": "code",
   "execution_count": 49,
   "metadata": {},
   "outputs": [
    {
     "name": "stdout",
     "output_type": "stream",
     "text": [
      "Enter the range for fibonacci series:8\n",
      "0\n",
      "1\n",
      "1\n",
      "2\n",
      "3\n",
      "5\n",
      "8\n",
      "13\n"
     ]
    }
   ],
   "source": [
    "def fibonacci(num):\n",
    "    if num == 0 or num == 1:\n",
    "        return num\n",
    "    else:\n",
    "        return fibonacci(num-1)+ fibonacci(num - 2)\n",
    "        \n",
    "try:\n",
    "    r = int(input(\"Enter the range for fibonacci series:\"))\n",
    "    for i in range(r):\n",
    "        print(fibonacci(i))\n",
    "except Exception as e:\n",
    "    print(\"Error! :\", e)"
   ]
  },
  {
   "cell_type": "markdown",
   "metadata": {},
   "source": [
    "Q. Write a Python Program to Find Factorial of Number Using Recursion?"
   ]
  },
  {
   "cell_type": "code",
   "execution_count": 23,
   "metadata": {},
   "outputs": [
    {
     "name": "stdout",
     "output_type": "stream",
     "text": [
      "Enter the number whose factorial you want:5\n",
      "Factorial :  120\n"
     ]
    }
   ],
   "source": [
    "def fact(num):\n",
    "    if num == 0 or num == 1:\n",
    "        return num\n",
    "    else:\n",
    "        return (num * fact(num - 1))\n",
    "\n",
    "print(\"Factorial : \",fact(int(input(\"Enter the number whose factorial you want:\"))))\n"
   ]
  },
  {
   "cell_type": "markdown",
   "metadata": {},
   "source": [
    "Q. Write a Python Program to calculate your Body Mass Index?"
   ]
  },
  {
   "cell_type": "code",
   "execution_count": 50,
   "metadata": {},
   "outputs": [
    {
     "name": "stdout",
     "output_type": "stream",
     "text": [
      "Enter your weight in KGs:85\n",
      "Enter your height in meters(m):1.79\n",
      "Your BMI is 26.53\n"
     ]
    }
   ],
   "source": [
    "def BMI():\n",
    "    try : \n",
    "        w = float(input(\"Enter your weight in KGs:\"))\n",
    "        h = float(input(\"Enter your height in meters(m):\"))\n",
    "    except:\n",
    "        print(\"Somthing went wrong, Check input\")\n",
    "        return\n",
    "    \n",
    "    print(\"Your BMI is\", round(w/h**2,2))\n",
    "    \n",
    "    \n",
    "BMI()"
   ]
  },
  {
   "cell_type": "markdown",
   "metadata": {},
   "source": [
    "Q. Write a Python Program to calculate the natural logarithm of any number?"
   ]
  },
  {
   "cell_type": "code",
   "execution_count": 41,
   "metadata": {},
   "outputs": [
    {
     "name": "stdout",
     "output_type": "stream",
     "text": [
      "Enter any number(>0): 10\n",
      "Natural Logarithm of 10 is 2.302585092994046\n"
     ]
    }
   ],
   "source": [
    "import math\n",
    "\n",
    "try :\n",
    "    l = int(input(\"Enter your weight in KGs:\"))\n",
    "    print(\"Natural Logarithm of\",l,\"is\",math.log(l))\n",
    "except Exception as e:\n",
    "    print(\"ERROR!: \",e)"
   ]
  },
  {
   "cell_type": "markdown",
   "metadata": {},
   "source": [
    "Q. Write a Python Program for cube sum of first n natural numbers?"
   ]
  },
  {
   "cell_type": "code",
   "execution_count": 46,
   "metadata": {},
   "outputs": [
    {
     "name": "stdout",
     "output_type": "stream",
     "text": [
      "Enter the range of natural numbers:10\n",
      "The cube sum of first 10 Natural numbers is 3025\n"
     ]
    }
   ],
   "source": [
    "try:\n",
    "    n = int(input(\"Enter the range of natural numbers:\"))\n",
    "    sum = 0 \n",
    "    for i in range(1, n+1):\n",
    "        sum += i**3\n",
    "    print(\"The cube sum of first\", n,\"Natural numbers is\", sum)\n",
    "except Exception as e:\n",
    "    print(\"ERROR!: \",e)\n",
    "    \n"
   ]
  },
  {
   "cell_type": "code",
   "execution_count": null,
   "metadata": {},
   "outputs": [],
   "source": []
  },
  {
   "cell_type": "code",
   "execution_count": null,
   "metadata": {},
   "outputs": [],
   "source": []
  }
 ],
 "metadata": {
  "kernelspec": {
   "display_name": "Python 3",
   "language": "python",
   "name": "python3"
  },
  "language_info": {
   "codemirror_mode": {
    "name": "ipython",
    "version": 3
   },
   "file_extension": ".py",
   "mimetype": "text/x-python",
   "name": "python",
   "nbconvert_exporter": "python",
   "pygments_lexer": "ipython3",
   "version": "3.6.5"
  }
 },
 "nbformat": 4,
 "nbformat_minor": 2
}
