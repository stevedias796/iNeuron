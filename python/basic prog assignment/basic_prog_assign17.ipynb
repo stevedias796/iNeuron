{
 "cells": [
  {
   "cell_type": "markdown",
   "metadata": {},
   "source": [
    "Question1. Create a function that takes three arguments a, b, c and returns the sum of the\n",
    "numbers that are evenly divided by c from the range a, b inclusive."
   ]
  },
  {
   "cell_type": "code",
   "execution_count": 4,
   "metadata": {},
   "outputs": [
    {
     "name": "stdout",
     "output_type": "stream",
     "text": [
      "Enter min range:1\n",
      "Enter max range:10\n",
      "Enter the divisible num:2\n"
     ]
    },
    {
     "data": {
      "text/plain": [
       "30"
      ]
     },
     "execution_count": 4,
     "metadata": {},
     "output_type": "execute_result"
    }
   ],
   "source": [
    "def evenly_divisible_sum(a,b,c):\n",
    "    sum = 0 \n",
    "    for i in range(a,b+1):\n",
    "        if i % c == 0:\n",
    "            sum += i\n",
    "    return sum\n",
    "\n",
    "a = int(input(\"Enter min range:\"))\n",
    "b = int(input(\"Enter max range:\"))\n",
    "c = int(input(\"Enter the divisible num:\"))\n",
    "\n",
    "evenly_divisible_sum(a,b,c)\n",
    "            "
   ]
  },
  {
   "cell_type": "markdown",
   "metadata": {},
   "source": [
    "Question2. Create a function that returns True if a given inequality expression is correct and\n",
    "False otherwise."
   ]
  },
  {
   "cell_type": "code",
   "execution_count": 11,
   "metadata": {},
   "outputs": [
    {
     "name": "stdout",
     "output_type": "stream",
     "text": [
      "Enter an expression:5<7<11\n"
     ]
    },
    {
     "data": {
      "text/plain": [
       "True"
      ]
     },
     "execution_count": 11,
     "metadata": {},
     "output_type": "execute_result"
    }
   ],
   "source": [
    "def correct_signs(exp):\n",
    "    try:\n",
    "        return eval(exp)\n",
    "    except Exception as e:\n",
    "        return \"Something went wrong, Check your input!\"    \n",
    "\n",
    "correct_signs(input(\"Enter an expression:\"))"
   ]
  },
  {
   "cell_type": "markdown",
   "metadata": {},
   "source": [
    "Question3. Create a function that replaces all the vowels in a string with a specified character.\n",
    "Examples\n",
    "replace_vowels(&quot;the aardvark&quot;, &quot;#&quot;) ➞ &quot;th# ##rdv#rk&quot;\n",
    "replace_vowels(&quot;minnie mouse&quot;, &quot;?&quot;) ➞ &quot;m?nn?? m??s?&quot;\n",
    "replace_vowels(&quot;shakespeare&quot;, &quot;*&quot;) ➞ &quot;sh*k*sp**r*&quot;"
   ]
  },
  {
   "cell_type": "code",
   "execution_count": 19,
   "metadata": {},
   "outputs": [
    {
     "name": "stdout",
     "output_type": "stream",
     "text": [
      "Enter a sentence: mini mouse\n",
      "Enter replacement string/character:?\n"
     ]
    },
    {
     "data": {
      "text/plain": [
       "'m?n? m??s?'"
      ]
     },
     "execution_count": 19,
     "metadata": {},
     "output_type": "execute_result"
    }
   ],
   "source": [
    "def replace_vowels(sent, rep):\n",
    "    sent = sent.lower()\n",
    "    vow = ['a','e','i','o','u']\n",
    "    for i in vow:\n",
    "        sent = sent.replace(i,rep)\n",
    "    return sent\n",
    "\n",
    "sent = str(input(\"Enter a sentence: \"))\n",
    "rep = str(input(\"Enter replacement string/character:\"))\n",
    "replace_vowels(sent,rep)"
   ]
  },
  {
   "cell_type": "markdown",
   "metadata": {},
   "source": [
    "Question4. Write a function that calculates the factorial of a number recursively."
   ]
  },
  {
   "cell_type": "code",
   "execution_count": 32,
   "metadata": {},
   "outputs": [
    {
     "name": "stdout",
     "output_type": "stream",
     "text": [
      "Enter a num to find factorial:5\n",
      "120\n"
     ]
    }
   ],
   "source": [
    "def get_fact(num):\n",
    "    if num == 1:\n",
    "        return num\n",
    "    else:\n",
    "        return num * get_fact(num-1)\n",
    "\n",
    "try:\n",
    "    ret = get_fact(int(input(\"Enter a num to find factorial:\")))\n",
    "    print(ret)\n",
    "except Exception as e:\n",
    "    print(\"Something went wrong!, Check your input.\")"
   ]
  },
  {
   "cell_type": "markdown",
   "metadata": {},
   "source": [
    "Question 5\n",
    "Hamming distance is the number of characters that differ between two strings.\n",
    "\n",
    "To illustrate:\n",
    "String1: &quot;abcbba&quot;\n",
    "String2: &quot;abcbda&quot;\n",
    "Hamming Distance: 1 - &quot;b&quot; vs. &quot;d&quot; is the only difference.\n",
    "Create a function that computes the hamming distance between two strings."
   ]
  },
  {
   "cell_type": "code",
   "execution_count": 42,
   "metadata": {},
   "outputs": [
    {
     "name": "stdout",
     "output_type": "stream",
     "text": [
      "Enter first string:strong\n",
      "Enter second string:strong\n"
     ]
    },
    {
     "data": {
      "text/plain": [
       "0"
      ]
     },
     "execution_count": 42,
     "metadata": {},
     "output_type": "execute_result"
    }
   ],
   "source": [
    "def hamming_distance(str1, str2):\n",
    "    if len(str1) != len(str2):\n",
    "        return \"Length of the string should be equal\"\n",
    "    sum = 0\n",
    "    for i in range(len(str1)):\n",
    "        if str1[i] != str2[i]:\n",
    "            sum += 1\n",
    "    return sum\n",
    "\n",
    "hamming_distance(str(input(\"Enter first string:\")),str(input(\"Enter second string:\")))"
   ]
  },
  {
   "cell_type": "markdown",
   "metadata": {},
   "source": []
  },
  {
   "cell_type": "code",
   "execution_count": null,
   "metadata": {},
   "outputs": [],
   "source": []
  }
 ],
 "metadata": {
  "kernelspec": {
   "display_name": "Python 3",
   "language": "python",
   "name": "python3"
  },
  "language_info": {
   "codemirror_mode": {
    "name": "ipython",
    "version": 3
   },
   "file_extension": ".py",
   "mimetype": "text/x-python",
   "name": "python",
   "nbconvert_exporter": "python",
   "pygments_lexer": "ipython3",
   "version": "3.6.5"
  }
 },
 "nbformat": 4,
 "nbformat_minor": 2
}
