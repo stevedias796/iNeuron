{
 "cells": [
  {
   "cell_type": "markdown",
   "metadata": {},
   "source": [
    "Q. Write a Python program to print \"Hello Python\"?"
   ]
  },
  {
   "cell_type": "code",
   "execution_count": 1,
   "metadata": {},
   "outputs": [
    {
     "name": "stdout",
     "output_type": "stream",
     "text": [
      "Hello Python\n"
     ]
    }
   ],
   "source": [
    "print(\"Hello Python\")"
   ]
  },
  {
   "cell_type": "markdown",
   "metadata": {},
   "source": [
    "Q. Write a Python program to do arithmetical operations addition and division.?"
   ]
  },
  {
   "cell_type": "code",
   "execution_count": 2,
   "metadata": {},
   "outputs": [
    {
     "name": "stdout",
     "output_type": "stream",
     "text": [
      "Enter First number: 10\n",
      "\n",
      "Enter Second number: 2\n",
      "After Addition:  12\n",
      "\n",
      "After Division:  5.0\n"
     ]
    }
   ],
   "source": [
    "a = int(input(\"Enter First number: \"))\n",
    "b = int(input(\"\\nEnter Second number: \"))\n",
    "\n",
    "print(\"\\nAfter Addition: \", a + b)\n",
    "print(\"\\nAfter Division: \", a / b)"
   ]
  },
  {
   "cell_type": "markdown",
   "metadata": {},
   "source": [
    "Q. Write a Python program to find the area of a triangle?"
   ]
  },
  {
   "cell_type": "code",
   "execution_count": 9,
   "metadata": {},
   "outputs": [
    {
     "name": "stdout",
     "output_type": "stream",
     "text": [
      "Enter heigt in cm: 4\n",
      "\n",
      "Enter base in cm: 3\n",
      "The Area of the triangle is:  6.0 sq cm.\n"
     ]
    }
   ],
   "source": [
    "h = int(input(\"Enter heigt in cm: \"))\n",
    "b = int(input(\"\\nEnter base in cm: \"))\n",
    "\n",
    "print(\"The Area of the triangle is: \", (b*h)/2, \"sq cm.\")"
   ]
  },
  {
   "cell_type": "markdown",
   "metadata": {},
   "source": [
    "Q. Write a Python program to swap two variables?"
   ]
  },
  {
   "cell_type": "code",
   "execution_count": 10,
   "metadata": {},
   "outputs": [
    {
     "name": "stdout",
     "output_type": "stream",
     "text": [
      "After swapping: a = 76 , b = 34\n"
     ]
    }
   ],
   "source": [
    "a = 34\n",
    "b = 76\n",
    "a, b = b, a\n",
    "\n",
    "print(\"After swapping: a =\",a, \", b =\",b)"
   ]
  },
  {
   "cell_type": "markdown",
   "metadata": {},
   "source": [
    "Q. Write a Python program to generate a random number?"
   ]
  },
  {
   "cell_type": "code",
   "execution_count": 28,
   "metadata": {},
   "outputs": [
    {
     "name": "stdout",
     "output_type": "stream",
     "text": [
      "Enter the upperbound of the random number: 100\n",
      "Random number is: 40\n"
     ]
    }
   ],
   "source": [
    "import random\n",
    "\n",
    "#this will generate a random number between 0 to upperbound\n",
    "r = int(input(\"Enter the upperbound of the random number: \"))\n",
    "print(\"Random number is:\", int(random.randint(0,r+1)))"
   ]
  },
  {
   "cell_type": "code",
   "execution_count": null,
   "metadata": {},
   "outputs": [],
   "source": []
  },
  {
   "cell_type": "code",
   "execution_count": null,
   "metadata": {},
   "outputs": [],
   "source": []
  }
 ],
 "metadata": {
  "kernelspec": {
   "display_name": "Python 3",
   "language": "python",
   "name": "python3"
  },
  "language_info": {
   "codemirror_mode": {
    "name": "ipython",
    "version": 3
   },
   "file_extension": ".py",
   "mimetype": "text/x-python",
   "name": "python",
   "nbconvert_exporter": "python",
   "pygments_lexer": "ipython3",
   "version": "3.6.5"
  }
 },
 "nbformat": 4,
 "nbformat_minor": 2
}
