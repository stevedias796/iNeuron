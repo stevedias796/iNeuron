{
 "cells": [
  {
   "cell_type": "markdown",
   "metadata": {},
   "source": [
    "Question1\n",
    "Create a function that takes a list of strings and integers, and filters out the list so that it\n",
    "returns a list of integers only."
   ]
  },
  {
   "cell_type": "code",
   "execution_count": 2,
   "metadata": {},
   "outputs": [
    {
     "name": "stdout",
     "output_type": "stream",
     "text": [
      "[1, 2, 3, 4]\n",
      "[0, 1729]\n",
      "[]\n"
     ]
    }
   ],
   "source": [
    "def filter_list(l):\n",
    "    if type(l) != list:\n",
    "        return \"Invalid input!\"\n",
    "    i = 0\n",
    "    while(i <= len(l)-1):\n",
    "        if type(l[i]) == str:\n",
    "            l.remove(l[i])\n",
    "            if i != 0:\n",
    "                #decrement i only if index position is not 0\n",
    "                i -= 1\n",
    "        else:\n",
    "            i += 1\n",
    "    return l\n",
    "\n",
    "print(filter_list([1, 2, 3,\"a\", \"b\", 4]))\n",
    "print(filter_list([\"a\", 0, \"Edabit\", 1729, \"Python\", \"1729\"]))\n",
    "print(filter_list([\"Nothing\", \"here\"]))\n"
   ]
  },
  {
   "cell_type": "markdown",
   "metadata": {},
   "source": [
    "Question2\n",
    "Given a list of numbers, create a function which returns the list but with each element&#39;s\n",
    "index in the list added to itself. This means you add 0 to the number at index 0, add 1 to the\n",
    "number at index 1, etc..."
   ]
  },
  {
   "cell_type": "code",
   "execution_count": 7,
   "metadata": {},
   "outputs": [
    {
     "name": "stdout",
     "output_type": "stream",
     "text": [
      "[0, 1, 2, 3, 4]\n",
      "[1, 3, 5, 7, 9]\n",
      "[5, 5, 5, 5, 5]\n"
     ]
    }
   ],
   "source": [
    "def add_indexes(lst):\n",
    "    new_list = []\n",
    "    for i,elem in enumerate(lst):\n",
    "        if type(elem) != int and type(elem) != float:\n",
    "            return \"Invalid Input!\"\n",
    "        else:\n",
    "            new_list.append(i+elem)\n",
    "    return new_list\n",
    "\n",
    "print(add_indexes([0, 0, 0, 0, 0]))\n",
    "print(add_indexes([1, 2, 3, 4, 5]))\n",
    "print(add_indexes([5, 4, 3, 2, 1]))"
   ]
  },
  {
   "cell_type": "markdown",
   "metadata": {},
   "source": [
    "Question3\n",
    "Create a function that takes the height and radius of a cone as arguments and returns the\n",
    "volume of the cone rounded to the nearest hundredth. See the resources tab for the formula."
   ]
  },
  {
   "cell_type": "code",
   "execution_count": 12,
   "metadata": {},
   "outputs": [
    {
     "data": {
      "text/plain": [
       "12.57"
      ]
     },
     "execution_count": 12,
     "metadata": {},
     "output_type": "execute_result"
    }
   ],
   "source": [
    "import math\n",
    "def volume_of_cone(h,r):\n",
    "    return round((1/3)*(math.pi)*(r**2)*(h),2)\n",
    "\n",
    "volume_of_cone(3,2)"
   ]
  },
  {
   "cell_type": "markdown",
   "metadata": {},
   "source": [
    "Question4\n",
    "This Triangular Number Sequence is generated from a pattern of dots that form a triangle.\n",
    "The first 5 numbers of the sequence, or dots, are:\n",
    "1, 3, 6, 10, 15\n",
    "This means that the first triangle has just one dot, the second one has three dots, the third one\n",
    "has 6 dots and so on.\n",
    "Write a function that gives the number of dots with its corresponding triangle number of the\n",
    "sequence."
   ]
  },
  {
   "cell_type": "code",
   "execution_count": 24,
   "metadata": {},
   "outputs": [
    {
     "name": "stdout",
     "output_type": "stream",
     "text": [
      "1\n",
      "21\n",
      "23220\n"
     ]
    }
   ],
   "source": [
    "def triangle(t):\n",
    "    j = 0\n",
    "    for i in range(t):\n",
    "        j = j+i\n",
    "        j += 1 \n",
    "    return j\n",
    "\n",
    "print(triangle(1))\n",
    "print(triangle(6))\n",
    "print(triangle(215))"
   ]
  },
  {
   "cell_type": "markdown",
   "metadata": {},
   "source": [
    "Question5\n",
    "Create a function that takes a list of numbers between 1 and 10 (excluding one number) and\n",
    "returns the missing number."
   ]
  },
  {
   "cell_type": "code",
   "execution_count": 41,
   "metadata": {},
   "outputs": [
    {
     "name": "stdout",
     "output_type": "stream",
     "text": [
      "5\n",
      "10\n",
      "7\n"
     ]
    }
   ],
   "source": [
    "def missing_number(numlist):\n",
    "    #validation\n",
    "    if type(numlist) != list:\n",
    "        return \"Invalid input!, the function accepts a list as an argument\"\n",
    "    elif len(set(numlist)) != 9:\n",
    "        return \"Invalid values, only one number should be missing\"\n",
    "    else:\n",
    "        l = [1,2,3,4,5,6,7,8,9,10]\n",
    "        for i in numlist:\n",
    "            if type(i) != int or (i < 1 and i > 10):\n",
    "                return \"Invalid values! List must contain numbers and from range 1 to 10\"\n",
    "        #solution\n",
    "        for i in l:\n",
    "            if i not in numlist:\n",
    "                return i\n",
    "            \n",
    "        \n",
    "                \n",
    "print(missing_number([1,2,3,4,6,7,8,9,10]))\n",
    "print(missing_number([7, 2, 3, 6, 5, 9, 1, 4, 8]))\n",
    "print(missing_number([10, 5, 1, 2, 4, 6, 8, 3, 9]))\n"
   ]
  },
  {
   "cell_type": "code",
   "execution_count": null,
   "metadata": {},
   "outputs": [],
   "source": []
  }
 ],
 "metadata": {
  "kernelspec": {
   "display_name": "Python 3",
   "language": "python",
   "name": "python3"
  },
  "language_info": {
   "codemirror_mode": {
    "name": "ipython",
    "version": 3
   },
   "file_extension": ".py",
   "mimetype": "text/x-python",
   "name": "python",
   "nbconvert_exporter": "python",
   "pygments_lexer": "ipython3",
   "version": "3.6.5"
  }
 },
 "nbformat": 4,
 "nbformat_minor": 2
}
