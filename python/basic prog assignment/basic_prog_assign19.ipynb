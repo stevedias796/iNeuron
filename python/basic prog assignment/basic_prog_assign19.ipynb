{
 "cells": [
  {
   "cell_type": "markdown",
   "metadata": {},
   "source": [
    "Question1\n",
    "Create a function that takes a string and returns a string in which each character is repeated\n",
    "once."
   ]
  },
  {
   "cell_type": "code",
   "execution_count": 1,
   "metadata": {},
   "outputs": [
    {
     "data": {
      "text/plain": [
       "'SSttrriinngg'"
      ]
     },
     "execution_count": 1,
     "metadata": {},
     "output_type": "execute_result"
    }
   ],
   "source": [
    "def double_string(word):\n",
    "    dub = \"\"\n",
    "    for i in word:\n",
    "        dub += i+i\n",
    "    return dub\n",
    "\n",
    "double_string(\"String\")"
   ]
  },
  {
   "cell_type": "markdown",
   "metadata": {},
   "source": [
    "Question2\n",
    "Create a function that reverses a boolean value and returns the string &quot;boolean expected&quot;\n",
    "if another variable type is given."
   ]
  },
  {
   "cell_type": "code",
   "execution_count": 8,
   "metadata": {},
   "outputs": [
    {
     "name": "stdout",
     "output_type": "stream",
     "text": [
      "False\n",
      "True\n",
      "Boolean expected\n",
      "Boolean expected\n"
     ]
    }
   ],
   "source": [
    "def bool_reverse(bool_val):\n",
    "    if type(bool_val) != bool:\n",
    "        return \"Boolean expected\"\n",
    "    else:\n",
    "        if bool_val:\n",
    "            return False\n",
    "        else:\n",
    "            return True\n",
    "    \n",
    "print(bool_reverse(True))\n",
    "print(bool_reverse(False))\n",
    "print(bool_reverse(0))\n",
    "print(bool_reverse(None))"
   ]
  },
  {
   "cell_type": "markdown",
   "metadata": {},
   "source": [
    "Question3\n",
    "Create a function that returns the thickness (in meters) of a piece of paper after folding it n\n",
    "number of times. The paper starts off with a thickness of 0.5mm."
   ]
  },
  {
   "cell_type": "code",
   "execution_count": 25,
   "metadata": {},
   "outputs": [
    {
     "name": "stdout",
     "output_type": "stream",
     "text": [
      "0.001m\n",
      "0.008m\n",
      "1048.576m\n"
     ]
    }
   ],
   "source": [
    "def paper_thickness(folds):\n",
    "    t = 0.5\n",
    "    for i in range(folds):\n",
    "        t = t*2\n",
    "    return str(t/1000)+\"m\"\n",
    "\n",
    "print(paper_thickness(1))\n",
    "print(paper_thickness(4))\n",
    "print(paper_thickness(21))"
   ]
  },
  {
   "cell_type": "markdown",
   "metadata": {},
   "source": [
    "Question 4. Create a function that takes a single string as argument and returns an ordered list containing\n",
    "the indices of all capital letters in the string."
   ]
  },
  {
   "cell_type": "code",
   "execution_count": 16,
   "metadata": {},
   "outputs": [
    {
     "name": "stdout",
     "output_type": "stream",
     "text": [
      "[1, 3, 5]\n",
      "[1, 3, 4, 6]\n",
      "[]\n"
     ]
    }
   ],
   "source": [
    "def caps_index(word):\n",
    "    index_list = []\n",
    "    for i,ch in enumerate(word):\n",
    "        if ch.isupper():\n",
    "            index_list.append(i)\n",
    "    return index_list\n",
    "\n",
    "print(caps_index(\"eDaBiT\"))\n",
    "print(caps_index(\"eQuINoX\"))\n",
    "print(caps_index(\"determine\"))"
   ]
  },
  {
   "cell_type": "markdown",
   "metadata": {},
   "source": [
    "Question 5. Using list comprehensions, create a function that finds all even numbers from 1 to the given\n",
    "number."
   ]
  },
  {
   "cell_type": "code",
   "execution_count": 23,
   "metadata": {},
   "outputs": [
    {
     "name": "stdout",
     "output_type": "stream",
     "text": [
      "[2, 4, 6, 8]\n",
      "[2, 4]\n",
      "[2]\n"
     ]
    }
   ],
   "source": [
    "def even_numbers(n):\n",
    "    return [i for i in range(1,n+1) if i%2==0]\n",
    "        \n",
    "print(even_numbers(8))\n",
    "print(even_numbers(4))\n",
    "print(even_numbers(2))"
   ]
  },
  {
   "cell_type": "code",
   "execution_count": null,
   "metadata": {},
   "outputs": [],
   "source": []
  }
 ],
 "metadata": {
  "kernelspec": {
   "display_name": "Python 3",
   "language": "python",
   "name": "python3"
  },
  "language_info": {
   "codemirror_mode": {
    "name": "ipython",
    "version": 3
   },
   "file_extension": ".py",
   "mimetype": "text/x-python",
   "name": "python",
   "nbconvert_exporter": "python",
   "pygments_lexer": "ipython3",
   "version": "3.6.5"
  }
 },
 "nbformat": 4,
 "nbformat_minor": 2
}
