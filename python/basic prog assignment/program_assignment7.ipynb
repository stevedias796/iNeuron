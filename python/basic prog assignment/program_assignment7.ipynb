{
 "cells": [
  {
   "cell_type": "markdown",
   "metadata": {},
   "source": [
    "Q. Write a Python Program to find sum of array?"
   ]
  },
  {
   "cell_type": "code",
   "execution_count": 2,
   "metadata": {},
   "outputs": [
    {
     "name": "stdout",
     "output_type": "stream",
     "text": [
      "Enter the size of array that you want to create:3\n",
      "Enter element: 30\n",
      "Enter element: 45\n",
      "Enter element: 15.5\n",
      "The sum of the array is 90.5\n"
     ]
    }
   ],
   "source": [
    "try:\n",
    "    s = int(input(\"Enter the size of array that you want to create:\"))\n",
    "    elements = []\n",
    "    for i in range(s):\n",
    "        el = float(input(\"Enter element: \"))\n",
    "        elements.append(el)\n",
    "    print(\"The sum of the array is\", sum(elements))\n",
    "except Exception as e:\n",
    "    print(\"ERROR!:\",e)"
   ]
  },
  {
   "cell_type": "markdown",
   "metadata": {},
   "source": [
    "Q. Write a Python Program to find largest element in an array?"
   ]
  },
  {
   "cell_type": "code",
   "execution_count": 3,
   "metadata": {},
   "outputs": [
    {
     "name": "stdout",
     "output_type": "stream",
     "text": [
      "Enter the size of array that you want to create:4\n",
      "Enter element: 78\n",
      "Enter element: 23\n",
      "Enter element: 45.6\n",
      "Enter element: 80\n",
      "The maximum numer in the array is 80.0\n"
     ]
    }
   ],
   "source": [
    "try:\n",
    "    s = int(input(\"Enter the size of array that you want to create:\"))\n",
    "    elements = []\n",
    "    for i in range(s):\n",
    "        el = float(input(\"Enter element: \"))\n",
    "        elements.append(el)\n",
    "    print(\"The maximum numer in the array is\", max(elements))\n",
    "except Exception as e:\n",
    "    print(\"ERROR!:\",e)"
   ]
  },
  {
   "cell_type": "markdown",
   "metadata": {},
   "source": [
    "Q Write a Python Program for array rotation?"
   ]
  },
  {
   "cell_type": "code",
   "execution_count": 9,
   "metadata": {},
   "outputs": [
    {
     "name": "stdout",
     "output_type": "stream",
     "text": [
      "Enter the size of array that you want to create:3\n",
      "Enter element: 3\n",
      "Enter element: 4\n",
      "Enter element: 7\n",
      "The array after rotation [7.0, 4.0, 3.0]\n"
     ]
    }
   ],
   "source": [
    "try:\n",
    "    s = int(input(\"Enter the size of array that you want to create:\"))\n",
    "    elements = []\n",
    "    for i in range(s):\n",
    "        el = float(input(\"Enter element: \"))\n",
    "        elements.append(el)\n",
    "    print(\"The array after rotation\", elements[::-1])\n",
    "except Exception as e:\n",
    "    print(\"ERROR!:\",e)"
   ]
  },
  {
   "cell_type": "markdown",
   "metadata": {},
   "source": [
    "Q. Write a Python Program to Split the array and add the first part to the end?"
   ]
  },
  {
   "cell_type": "code",
   "execution_count": 21,
   "metadata": {},
   "outputs": [
    {
     "name": "stdout",
     "output_type": "stream",
     "text": [
      "Enter the size of array that you want to create:4\n",
      "Enter element: 2\n",
      "Enter element: 3\n",
      "Enter element: 4\n",
      "Enter element: 5\n",
      "Your array: [2.0, 3.0, 4.0, 5.0]\n",
      "Enter the splitting position:2\n",
      "The array after spliting and appending the first part [4.0, 5.0, 2.0, 3.0]\n"
     ]
    }
   ],
   "source": [
    "try:\n",
    "    s = int(input(\"Enter the size of array that you want to create:\"))\n",
    "    elements = []\n",
    "    for i in range(s):\n",
    "        el = float(input(\"Enter element: \"))\n",
    "        elements.append(el)\n",
    "    print(\"Your array:\", elements)\n",
    "    sp = int(input(\"Enter the splitting position:\"))\n",
    "    if sp >= s:\n",
    "        raise Exception(\"Position has to be within the size\")\n",
    "    #copying elements from start till the specified position in new list\n",
    "    li = elements[:sp] \n",
    "    #appending the new list to old list\n",
    "    elements.extend(li)\n",
    "    #reversing the old list to pop elements from start to specified pos\n",
    "    elements.reverse()\n",
    "    for i in range(sp):\n",
    "        elements.pop()\n",
    "    #reversing again to bring the old list back to normal        \n",
    "    elements.reverse()\n",
    "    print(\"The array after spliting and appending the first part\", elements[::1])\n",
    "except Exception as e:\n",
    "    print(\"ERROR!:\",e)"
   ]
  },
  {
   "cell_type": "markdown",
   "metadata": {},
   "source": [
    "Q. Write a Python Program to check if given array is Monotonic?"
   ]
  },
  {
   "cell_type": "code",
   "execution_count": 67,
   "metadata": {},
   "outputs": [
    {
     "name": "stdout",
     "output_type": "stream",
     "text": [
      "Enter the size of array that you want to create:4\n",
      "Enter element: 3\n",
      "Enter element: 4\n",
      "Enter element: 5\n",
      "Enter element: 6\n",
      "The given array is Monotonic\n"
     ]
    }
   ],
   "source": [
    "try:\n",
    "    s = int(input(\"Enter the size of array that you want to create:\"))\n",
    "    if s <= 1:\n",
    "        raise Exception(\"size should be greater than 1\")\n",
    "    elements = []\n",
    "    count = 0\n",
    "    new_elements_asc = []\n",
    "    new_elements_dsc = []\n",
    "    for i in range(s):\n",
    "        el = float(input(\"Enter element: \"))\n",
    "        elements.append(el)\n",
    "    new_elements_asc.extend(elements)\n",
    "    new_elements_dsc.extend(elements)\n",
    "    new_elements_asc.sort()\n",
    "    new_elements_dsc.sort(reverse=True)\n",
    "    for i in range(len(elements)):\n",
    "        if elements[i] != new_elements_asc[i]:\n",
    "            count = 1\n",
    "            break\n",
    "    if count == 1:\n",
    "        for i in range(len(elements)):\n",
    "            if elements[i] != new_elements_dsc[i]:\n",
    "                count = 2\n",
    "                break\n",
    "    \n",
    "    if count != 2:\n",
    "        print(\"The given array is Monotonic\")\n",
    "    else:\n",
    "        print(\"The given array is Not Monotonic\")\n",
    "        \n",
    "except Exception as e:\n",
    "    print(\"ERROR!:\",e)"
   ]
  },
  {
   "cell_type": "markdown",
   "metadata": {},
   "source": []
  },
  {
   "cell_type": "code",
   "execution_count": null,
   "metadata": {},
   "outputs": [],
   "source": []
  }
 ],
 "metadata": {
  "kernelspec": {
   "display_name": "Python 3",
   "language": "python",
   "name": "python3"
  },
  "language_info": {
   "codemirror_mode": {
    "name": "ipython",
    "version": 3
   },
   "file_extension": ".py",
   "mimetype": "text/x-python",
   "name": "python",
   "nbconvert_exporter": "python",
   "pygments_lexer": "ipython3",
   "version": "3.6.5"
  }
 },
 "nbformat": 4,
 "nbformat_minor": 2
}
