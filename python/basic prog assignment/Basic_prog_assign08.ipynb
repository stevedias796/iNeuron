{
 "cells": [
  {
   "cell_type": "markdown",
   "metadata": {},
   "source": [
    "Q. Write a Python Program to Add Two Matrices?"
   ]
  },
  {
   "cell_type": "code",
   "execution_count": 1,
   "metadata": {},
   "outputs": [
    {
     "name": "stdout",
     "output_type": "stream",
     "text": [
      "Enter the number of rows:3\n",
      "Enter the number of columns:3\n",
      "\n",
      "Enter the elements for First Matrix:\n",
      "Enter element no. 1 for row 1: 2\n",
      "Enter element no. 2 for row 1: 4\n",
      "Enter element no. 3 for row 1: 5\n",
      "Enter element no. 1 for row 2: 7\n",
      "Enter element no. 2 for row 2: 1\n",
      "Enter element no. 3 for row 2: 45\n",
      "Enter element no. 1 for row 3: 54\n",
      "Enter element no. 2 for row 3: 34\n",
      "Enter element no. 3 for row 3: 1\n",
      "[[2, 4, 5], [7, 1, 45], [54, 34, 1]]\n",
      "\n",
      "Enter the elements for Second Matrix:\n",
      "Enter element no. 1 for row 1: 7\n",
      "Enter element no. 2 for row 1: 3\n",
      "Enter element no. 3 for row 1: 4\n",
      "Enter element no. 1 for row 2: 5\n",
      "Enter element no. 2 for row 2: 6\n",
      "Enter element no. 3 for row 2: 12\n",
      "Enter element no. 1 for row 3: 32\n",
      "Enter element no. 2 for row 3: 6\n",
      "Enter element no. 3 for row 3: 7\n",
      "[[7, 3, 4], [5, 6, 12], [32, 6, 7]]\n",
      "The sum of the two matrix is:  [[9, 7, 9], [12, 7, 57], [86, 40, 8]]\n"
     ]
    }
   ],
   "source": [
    "try:\n",
    "    rows = int(input(\"Enter the number of rows:\"))\n",
    "    cols = int(input(\"Enter the number of columns:\"))\n",
    "\n",
    "    matA = []\n",
    "    matB = []\n",
    "    valA = []\n",
    "    valB = []\n",
    "\n",
    "    print(\"\\nEnter the elements for First Matrix:\")\n",
    "    for i in range(rows):\n",
    "        for j in range(cols):\n",
    "            msg = \"Enter element no. {0} for row {1}: \".format(j+1, i+1)\n",
    "            valA.append(int(input(msg)))\n",
    "        matA.append(valA)\n",
    "        valA = []\n",
    "\n",
    "    print(matA)\n",
    "\n",
    "    print(\"\\nEnter the elements for Second Matrix:\")\n",
    "    for i in range(rows):\n",
    "        for j in range(cols):\n",
    "            msg = \"Enter element no. {0} for row {1}: \".format(j+1, i+1)\n",
    "            valB.append(int(input(msg)))\n",
    "        matB.append(valB)\n",
    "        valB = []\n",
    "    print(matB)\n",
    "\n",
    "    mat_sum = []\n",
    "    sumAB=[]\n",
    "    for i in range(rows):\n",
    "        for j in range(cols):\n",
    "            sumAB.append(matA[i][j] + matB[i][j])\n",
    "        mat_sum.append(sumAB)\n",
    "        sumAB = []       \n",
    "\n",
    "    print(\"The sum of the two matrix is: \", mat_sum)\n",
    "except Exception as e:\n",
    "    print(\"something went wrong:\", e)"
   ]
  },
  {
   "cell_type": "markdown",
   "metadata": {},
   "source": [
    "Q. Write a Python Program to Multiply Two Matrices?\n"
   ]
  },
  {
   "cell_type": "code",
   "execution_count": 6,
   "metadata": {},
   "outputs": [
    {
     "name": "stdout",
     "output_type": "stream",
     "text": [
      "Enter the number of rows:2\n",
      "Enter the number of columns:2\n",
      "\n",
      "Enter the elements for First Matrix:\n",
      "Enter element no. 1 for row 1: 2\n",
      "Enter element no. 2 for row 1: 3\n",
      "Enter element no. 1 for row 2: 5\n",
      "Enter element no. 2 for row 2: 6\n",
      "[[2, 3], [5, 6]]\n",
      "\n",
      "Enter the elements for Second Matrix:\n",
      "Enter element no. 1 for row 1: 1\n",
      "Enter element no. 2 for row 1: 2\n",
      "Enter element no. 1 for row 2: 8\n",
      "Enter element no. 2 for row 2: 7\n",
      "[[1, 2], [8, 7]]\n",
      "[[1, 8], [2, 7]]\n",
      "[[26, 25], [53, 52]]\n"
     ]
    }
   ],
   "source": [
    "try:\n",
    "    rows = int(input(\"Enter the number of rows:\"))\n",
    "    cols = int(input(\"Enter the number of columns:\"))\n",
    "\n",
    "    if rows != cols :\n",
    "        print(\"Rows and Columns has to be equal\")\n",
    "\n",
    "\n",
    "    matA = []\n",
    "    matB = []\n",
    "    valA = []\n",
    "    valB = []\n",
    "\n",
    "    print(\"\\nEnter the elements for First Matrix:\")\n",
    "    for i in range(rows):\n",
    "        for j in range(cols):\n",
    "            msg = \"Enter element no. {0} for row {1}: \".format(j+1, i+1)\n",
    "            valA.append(int(input(msg)))\n",
    "        matA.append(valA)\n",
    "        valA = []\n",
    "\n",
    "    print(matA)\n",
    "\n",
    "    print(\"\\nEnter the elements for Second Matrix:\")\n",
    "    for i in range(rows):\n",
    "        for j in range(cols):\n",
    "            msg = \"Enter element no. {0} for row {1}: \".format(j+1, i+1)\n",
    "            valB.append(int(input(msg)))\n",
    "        matB.append(valB)\n",
    "        valB = []\n",
    "    print(matB)\n",
    "\n",
    "    mat_trans = []\n",
    "    trans=[]\n",
    "    for i in range(rows):\n",
    "        for j in range(cols):\n",
    "            trans.append(matB[j][i])\n",
    "        mat_trans.append(trans)\n",
    "        trans = []\n",
    "\n",
    "    mul = 0\n",
    "    sum_mul = 0\n",
    "    mat_mul = []\n",
    "    val_mat=[]\n",
    "\n",
    "    print(mat_trans)\n",
    "    for i in range(rows):\n",
    "        for j in range(cols):\n",
    "            for k in range(cols):\n",
    "                mul = matA[i][k] * mat_trans[j][k]\n",
    "                sum_mul += mul\n",
    "            val_mat.append(sum_mul)\n",
    "            sum_mul = 0\n",
    "        mat_mul.append(val_mat)\n",
    "        val_mat = []\n",
    "\n",
    "    print(\"The multiplication of the two matrix is: \", mat_mul)\n",
    "except Exception as e:\n",
    "    print(\"something went wrong:\", e)"
   ]
  },
  {
   "cell_type": "markdown",
   "metadata": {},
   "source": [
    "Q. Write a Python Program to Transpose a Matrix?"
   ]
  },
  {
   "cell_type": "code",
   "execution_count": 8,
   "metadata": {},
   "outputs": [
    {
     "name": "stdout",
     "output_type": "stream",
     "text": [
      "Enter the number of rows:2\n",
      "Enter the number of columns:2\n",
      "\n",
      "Enter the elements for First Matrix:\n",
      "Enter element no. 1 for row 1: 3\n",
      "Enter element no. 2 for row 1: 4\n",
      "Enter element no. 1 for row 2: 5\n",
      "Enter element no. 2 for row 2: 6\n",
      "[[3, 4], [5, 6]]\n",
      "\n",
      "Transpose Matrix: [[3, 5], [4, 6]]\n"
     ]
    }
   ],
   "source": [
    "try:\n",
    "    rows = int(input(\"Enter the number of rows:\"))\n",
    "    cols = int(input(\"Enter the number of columns:\"))\n",
    "\n",
    "    matA = []\n",
    "    valA = []\n",
    "\n",
    "    print(\"\\nEnter the elements for First Matrix:\")\n",
    "    for i in range(rows):\n",
    "        for j in range(cols):\n",
    "            msg = \"Enter element no. {0} for row {1}: \".format(j+1, i+1)\n",
    "            valA.append(int(input(msg)))\n",
    "        matA.append(valA)\n",
    "        valA = []\n",
    "    print(matA)\n",
    "    \n",
    "    mat_trans = []\n",
    "    trans=[]\n",
    "    for i in range(rows):\n",
    "        for j in range(cols):\n",
    "            trans.append(matA[j][i])\n",
    "        mat_trans.append(trans)\n",
    "        trans = []\n",
    "    print(\"\\nTranspose Matrix:\",mat_trans)\n",
    "except Exception as e:\n",
    "    print(\"something went wrong:\", e)"
   ]
  },
  {
   "cell_type": "markdown",
   "metadata": {},
   "source": [
    "Q. Write a Python Program to Sort Words in Alphabetic Order?"
   ]
  },
  {
   "cell_type": "code",
   "execution_count": 13,
   "metadata": {},
   "outputs": [
    {
     "name": "stdout",
     "output_type": "stream",
     "text": [
      "Enter a sentence:Hello my name is steve\n",
      "Your sentence after sorting: \n",
      "Hello is my name steve\n"
     ]
    }
   ],
   "source": [
    "try:\n",
    "    sentence = str(input(\"Enter a sentence:\"))\n",
    "    l = sentence.split(\" \")\n",
    "    l.sort()\n",
    "    sort_sent = \"\"\n",
    "    print(\"Your sentence after sorting: \")\n",
    "    for i,word in enumerate(l):\n",
    "        if i == 0:\n",
    "            sort_sent += word\n",
    "        else:\n",
    "            sort_sent = sort_sent + \" \" + word\n",
    "    print(sort_sent)    \n",
    "except Exception as e:\n",
    "    print(\"something went wrong:\", e)"
   ]
  },
  {
   "cell_type": "markdown",
   "metadata": {},
   "source": [
    "Q. Write a Python Program to Remove Punctuation From a String?"
   ]
  },
  {
   "cell_type": "code",
   "execution_count": 21,
   "metadata": {},
   "outputs": [
    {
     "name": "stdout",
     "output_type": "stream",
     "text": [
      "Enter a sentence:hgfjs'sdfnsb.sdgkj,dfg; dfgh[] gf{ }fgh? df/ ! dfg( )x dfg;dfgd\"\"dfg\n",
      "Your sentence without punctuation: hgfjssdfnsbsdgkjdfg dfgh gf fgh df  dfg x dfgdfgddfg\n"
     ]
    }
   ],
   "source": [
    "try:\n",
    "    sentence = str(input(\"Enter a sentence:\"))\n",
    "    puncs = ['.',',','-','?','!','\"',';',':','[',']','(',')','{','}','/',\"'\"]\n",
    "    for i in puncs:\n",
    "        ind = sentence.find(i)\n",
    "        if ind != -1:\n",
    "            sentence = sentence.replace(sentence[ind],'')\n",
    "\n",
    "    print(\"Your sentence without punctuation:\",sentence)\n",
    "except Exception as e:\n",
    "    print(\"something went wrong:\", e)"
   ]
  },
  {
   "cell_type": "code",
   "execution_count": null,
   "metadata": {},
   "outputs": [],
   "source": []
  }
 ],
 "metadata": {
  "kernelspec": {
   "display_name": "Python 3",
   "language": "python",
   "name": "python3"
  },
  "language_info": {
   "codemirror_mode": {
    "name": "ipython",
    "version": 3
   },
   "file_extension": ".py",
   "mimetype": "text/x-python",
   "name": "python",
   "nbconvert_exporter": "python",
   "pygments_lexer": "ipython3",
   "version": "3.6.5"
  }
 },
 "nbformat": 4,
 "nbformat_minor": 2
}
