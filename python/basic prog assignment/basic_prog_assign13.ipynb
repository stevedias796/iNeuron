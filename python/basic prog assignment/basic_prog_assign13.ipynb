{
 "cells": [
  {
   "cell_type": "markdown",
   "metadata": {},
   "source": [
    "Question 1:\n",
    "Write a program that calculates and prints the value according to the given formula:\n",
    "Q = Square root of [(2 * C * D)/H]\n",
    "Following are the fixed values of C and H:\n",
    "C is 50. H is 30.\n",
    "D is the variable whose values should be input to your program in a comma-separated\n",
    "sequence.\n",
    "\n",
    "Example\n",
    "Let us assume the following comma separated input sequence is given to the program:\n",
    "100,150,180\n",
    "The output of the program should be:\n",
    "18,22,24"
   ]
  },
  {
   "cell_type": "code",
   "execution_count": 13,
   "metadata": {},
   "outputs": [
    {
     "name": "stdout",
     "output_type": "stream",
     "text": [
      "Enter comma separated values:100,150,180\n",
      "18,22,24\n"
     ]
    }
   ],
   "source": [
    "import math\n",
    "C = 50\n",
    "H = 30\n",
    "out = \"\"\n",
    "comma_sep_in = str(input(\"Enter comma separated values:\"))\n",
    "try:\n",
    "    for i,each_val in enumerate(comma_sep_in.split(',')):\n",
    "        D = int(each_val)\n",
    "        Q = int(math.sqrt((2*C*D)/H))\n",
    "        if i == 0:\n",
    "            out = str(Q) \n",
    "        else:\n",
    "            out = out +\",\"+str(Q) \n",
    "    print(out)\n",
    "except Exception as e:\n",
    "        print(e,\"\\nSomething went wrong, chech your input.\")"
   ]
  },
  {
   "cell_type": "markdown",
   "metadata": {},
   "source": [
    "\n",
    "\n",
    "Question 2:\n",
    "Write a program which takes 2 digits, X,Y as input and generates a 2-dimensional array. The\n",
    "element value in the i-th row and j-th column of the array should be i*j.\n",
    "Note: i=0,1.., X-1; j=0,1,¡Y-1.\n",
    "\n",
    "\n",
    "Example\n",
    "Suppose the following inputs are given to the program:\n",
    "3,5\n",
    "Then, the output of the program should be:\n",
    "[[0, 0, 0, 0, 0], [0, 1, 2, 3, 4], [0, 2, 4, 6, 8]]"
   ]
  },
  {
   "cell_type": "code",
   "execution_count": 16,
   "metadata": {},
   "outputs": [
    {
     "name": "stdout",
     "output_type": "stream",
     "text": [
      "Enter no of rows and columns(comma separated- r,c):3,5\n",
      "The 2-D array :  [[0, 0, 0, 0, 0], [0, 1, 2, 3, 4], [0, 2, 4, 6, 8]]\n"
     ]
    }
   ],
   "source": [
    "comma_sep_in = str(input(\"Enter no of rows and columns(comma separated- r,c):\"))\n",
    "try:\n",
    "    arr = []\n",
    "    r_c = comma_sep_in.split(',')\n",
    "    if len(r_c) > 2:\n",
    "        print(\"Invalid Input\")\n",
    "    else:\n",
    "        r = int(r_c[0])\n",
    "        if len(r_c) == 1:\n",
    "            c = 1\n",
    "        else:\n",
    "            c = int(r_c[1])\n",
    "        for i in range(r):\n",
    "            val = []\n",
    "            for j in range(c):\n",
    "                val.append(i*j)\n",
    "            arr.append(val)\n",
    "            \n",
    "        print(\"The 2-D array : \", arr)        \n",
    "except Exception as e:\n",
    "        print(e,\"\\nSomething went wrong, chech your input.\")"
   ]
  },
  {
   "cell_type": "markdown",
   "metadata": {},
   "source": [
    "\n",
    "Question 3. Write a program that accepts a comma separated sequence of words as input and prints the\n",
    "words in a comma-separated sequence after sorting them alphabetically.\n",
    "Suppose the following input is supplied to the program:\n",
    "without,hello,bag,world\n",
    "Then, the output should be:\n",
    "bag,hello,without,world"
   ]
  },
  {
   "cell_type": "code",
   "execution_count": 19,
   "metadata": {},
   "outputs": [
    {
     "name": "stdout",
     "output_type": "stream",
     "text": [
      "Enter comma separated words:without,hello,bag,world\n",
      "bag,hello,without,world\n"
     ]
    }
   ],
   "source": [
    "try:\n",
    "    comma_sep_in = str(input(\"Enter comma separated words:\"))\n",
    "    l = comma_sep_in.split(',')\n",
    "    l.sort()\n",
    "    print(\",\".join(l))\n",
    "except Exception as e:\n",
    "    print(\"Soimthing went wrong!!\\n\", e)"
   ]
  },
  {
   "cell_type": "markdown",
   "metadata": {},
   "source": [
    "\n",
    "Question 4:\n",
    "Write a program that accepts a sequence of whitespace separated words as input and prints\n",
    "the words after removing all duplicate words and sorting them alphanumerically.\n",
    "Suppose the following input is supplied to the program:\n",
    "hello world and practice makes perfect and hello world again\n",
    "Then, the output should be:\n",
    "again and hello makes perfect practice world"
   ]
  },
  {
   "cell_type": "code",
   "execution_count": 29,
   "metadata": {},
   "outputs": [
    {
     "name": "stdout",
     "output_type": "stream",
     "text": [
      "Enter a sentence:hello world and practice makes perfect and hello world again\n",
      "again and hello makes perfect practice world\n"
     ]
    }
   ],
   "source": [
    "try:\n",
    "    comma_sep_in = str(input(\"Enter a sentence:\"))\n",
    "    l = comma_sep_in.split(' ')\n",
    "    l = list(set(l))\n",
    "    l.sort()\n",
    "    print(' '.join(l))\n",
    "except Exception as e:\n",
    "    print(\"Soimthing went wrong!!\\n\", e)"
   ]
  },
  {
   "cell_type": "markdown",
   "metadata": {},
   "source": [
    "\n",
    "Question 5:\n",
    "Write a program that accepts a sentence and calculate the number of letters and digits.\n",
    "Suppose the following input is supplied to the program:\n",
    "hello world! 123\n",
    "Then, the output should be:\n",
    "LETTERS 10\n",
    "\n",
    "DIGITS 3\n"
   ]
  },
  {
   "cell_type": "code",
   "execution_count": 32,
   "metadata": {},
   "outputs": [
    {
     "name": "stdout",
     "output_type": "stream",
     "text": [
      "Enter a sentence:hello world! 123\n",
      "LETTERS 10\n",
      "\n",
      "DIGITS 3\n"
     ]
    }
   ],
   "source": [
    "sent = str(input(\"Enter a sentence:\"))\n",
    "letter = 0\n",
    "digit = 0\n",
    "for ch in sent:\n",
    "    if ch.isdigit():\n",
    "        digit += 1\n",
    "    elif ch.isalpha():\n",
    "        letter += 1\n",
    "print(\"LETTERS\", letter)\n",
    "print(\"\\nDIGITS\", digit)\n"
   ]
  },
  {
   "cell_type": "markdown",
   "metadata": {},
   "source": [
    "\n",
    "Question 6:\n",
    "A website requires the users to input username and password to register. Write a program to\n",
    "check the validity of password input by users.\n",
    "Following are the criteria for checking the password:\n",
    "1. At least 1 letter between [a-z]\n",
    "2. At least 1 number between [0-9]\n",
    "1. At least 1 letter between [A-Z]\n",
    "3. At least 1 character from [$#@]\n",
    "4. Minimum length of transaction password: 6\n",
    "5. Maximum length of transaction password: 12\n",
    "Your program should accept a sequence of comma separated passwords and will check them\n",
    "according to the above criteria. Passwords that match the criteria are to be printed, each\n",
    "separated by a comma.\n",
    "Example\n",
    "If the following passwords are given as input to the program:\n",
    "ABd1234@1,a F1#,2w3E*,2We3345\n",
    "Then, the output of the program should be:\n",
    "ABd1234@1"
   ]
  },
  {
   "cell_type": "code",
   "execution_count": 40,
   "metadata": {},
   "outputs": [
    {
     "name": "stdout",
     "output_type": "stream",
     "text": [
      "Enter comma separated passwords:ABd1234@1,a F1#,2w3E*,2We3345\n",
      "ABd1234@1\n"
     ]
    }
   ],
   "source": [
    "passwords = str(input(\"Enter comma separated passwords:\"))\n",
    "list_pass = []\n",
    "sp_chars = ['$','#','@']\n",
    "\n",
    "for each_pass in passwords.split(','):\n",
    "    digit = 0\n",
    "    caps_let = 0\n",
    "    letter = 0\n",
    "    sp_ch = 0\n",
    "    for ch in each_pass:\n",
    "        if ch.isdigit():\n",
    "            digit += 1\n",
    "        elif ch.isalpha():\n",
    "            if ch.isupper():\n",
    "                caps_let += 1\n",
    "            else:\n",
    "                letter += 1\n",
    "        elif ch in sp_chars:\n",
    "            sp_ch += 1\n",
    "            \n",
    "    if len(each_pass) >= 6 and len(each_pass) <= 12:\n",
    "        if digit > 0 and caps_let > 0 and letter > 0 and sp_ch > 0:\n",
    "            print(each_pass)"
   ]
  },
  {
   "cell_type": "code",
   "execution_count": null,
   "metadata": {},
   "outputs": [],
   "source": []
  }
 ],
 "metadata": {
  "kernelspec": {
   "display_name": "Python 3",
   "language": "python",
   "name": "python3"
  },
  "language_info": {
   "codemirror_mode": {
    "name": "ipython",
    "version": 3
   },
   "file_extension": ".py",
   "mimetype": "text/x-python",
   "name": "python",
   "nbconvert_exporter": "python",
   "pygments_lexer": "ipython3",
   "version": "3.6.5"
  }
 },
 "nbformat": 4,
 "nbformat_minor": 2
}
