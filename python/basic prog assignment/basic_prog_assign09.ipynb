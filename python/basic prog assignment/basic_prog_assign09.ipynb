{
 "cells": [
  {
   "cell_type": "markdown",
   "metadata": {},
   "source": [
    "Q.Write a Python program to check if the given number is a Disarium Number?"
   ]
  },
  {
   "cell_type": "code",
   "execution_count": 10,
   "metadata": {},
   "outputs": [
    {
     "name": "stdout",
     "output_type": "stream",
     "text": [
      "Enter a number:89\n",
      "89 is a Disarium number\n"
     ]
    }
   ],
   "source": [
    "try:\n",
    "    num = int(input(\"Enter a number:\"))\n",
    "    str_num = str(num)\n",
    "    sum_num = 0\n",
    "    for i,each_num in enumerate(str_num):\n",
    "        sum_num += int(each_num)**(i+1)\n",
    "        \n",
    "    if sum_num == num:\n",
    "        print(num, \"is a Disarium number\")\n",
    "    else:\n",
    "        print(num,\"is not a Disarium number\")\n",
    "except Exception as e:\n",
    "    print(\"somthing went wrong\", e)"
   ]
  },
  {
   "cell_type": "markdown",
   "metadata": {},
   "source": [
    "Q. Write a Python program to print all disarium numbers between 1 to 100?"
   ]
  },
  {
   "cell_type": "code",
   "execution_count": 1,
   "metadata": {},
   "outputs": [
    {
     "name": "stdout",
     "output_type": "stream",
     "text": [
      "1\n",
      "2\n",
      "3\n",
      "4\n",
      "5\n",
      "6\n",
      "7\n",
      "8\n",
      "9\n",
      "89\n"
     ]
    }
   ],
   "source": [
    "try:\n",
    "    num = 1\n",
    "    sum_num = 0\n",
    "    while(num <= 100): \n",
    "        for i,each_num in enumerate(str(num)):\n",
    "            sum_num += int(each_num)**(i+1)\n",
    "        if sum_num == num:\n",
    "            print(num)\n",
    "            \n",
    "        sum_num = 0\n",
    "        num += 1\n",
    "except Exception as e:\n",
    "    print(\"somthing went wrong\", e)"
   ]
  },
  {
   "cell_type": "markdown",
   "metadata": {},
   "source": [
    "Q. Write a Python program to check if the given number is Happy Number?"
   ]
  },
  {
   "cell_type": "code",
   "execution_count": 3,
   "metadata": {},
   "outputs": [
    {
     "name": "stdout",
     "output_type": "stream",
     "text": [
      "Enter a number:7\n",
      "[7, 49]\n",
      "[7, 49, 97]\n",
      "[7, 49, 97, 130]\n",
      "[7, 49, 97, 130, 10]\n",
      "7 is a happy number\n"
     ]
    }
   ],
   "source": [
    "def happy_number_chk(num):\n",
    "    sum_num = 0\n",
    "    for each_num in str(num):\n",
    "        sum_num += int(each_num)**2\n",
    "    return sum_num\n",
    "\n",
    "try:\n",
    "    num = int(input(\"Enter a number:\"))\n",
    "    checklist = [num]\n",
    "    happy_num = num\n",
    "    ret = 0\n",
    "    while(True):\n",
    "        ret = happy_number_chk(happy_num)\n",
    "        if ret == 1:\n",
    "            print(num, \"is a happy number\")\n",
    "            break\n",
    "            \n",
    "        if ret in checklist:\n",
    "            print(num, \"is not a happy number\")\n",
    "            break\n",
    "        else:\n",
    "            checklist.append(ret)\n",
    "            happy_num = ret\n",
    "            print(checklist)\n",
    "except Exception as e:\n",
    "    print(e)"
   ]
  },
  {
   "cell_type": "markdown",
   "metadata": {},
   "source": [
    "Q. Write a Python program to print all happy numbers between 1 and 100?"
   ]
  },
  {
   "cell_type": "code",
   "execution_count": 2,
   "metadata": {},
   "outputs": [
    {
     "name": "stdout",
     "output_type": "stream",
     "text": [
      "1\n",
      "7\n",
      "10\n",
      "13\n",
      "19\n",
      "23\n",
      "28\n",
      "31\n",
      "32\n",
      "44\n",
      "49\n",
      "68\n",
      "70\n",
      "79\n",
      "82\n",
      "86\n",
      "91\n",
      "94\n",
      "97\n",
      "100\n"
     ]
    }
   ],
   "source": [
    "def happy_number_chk(num):\n",
    "    sum_num = 0\n",
    "    for each_num in str(num):\n",
    "        sum_num += int(each_num)**2\n",
    "    return sum_num\n",
    "\n",
    "try:\n",
    "    num = 1\n",
    "    sum_num = 0\n",
    "    checklist = []\n",
    "    happy_num = num\n",
    "    ret = 0\n",
    "    while(num <= 100):\n",
    "        happy_num = num\n",
    "        checklist.clear()\n",
    "        while(True):\n",
    "            ret = happy_number_chk(happy_num)\n",
    "            if ret == 1:\n",
    "                print(num)\n",
    "                break\n",
    "            \n",
    "            if ret in checklist:\n",
    "                break\n",
    "            else:\n",
    "                checklist.append(ret)\n",
    "                happy_num = ret\n",
    "                \n",
    "        num += 1        \n",
    "except Exception as e:\n",
    "    print(e)"
   ]
  },
  {
   "cell_type": "markdown",
   "metadata": {},
   "source": [
    "Q. Write a Python program to determine whether the given number is a Harshad Number?"
   ]
  },
  {
   "cell_type": "code",
   "execution_count": 12,
   "metadata": {},
   "outputs": [
    {
     "name": "stdout",
     "output_type": "stream",
     "text": [
      "Enter a number:34\n",
      "34 is not a Harshad number\n"
     ]
    }
   ],
   "source": [
    "try:\n",
    "    num = int(input(\"Enter a number:\"))\n",
    "    sum_num = 0\n",
    "    for each_num in str(num):\n",
    "        sum_num += int(each_num)\n",
    "        \n",
    "    if num % sum_num == 0:\n",
    "        print(num,\"is a Harshad number\")\n",
    "    else:\n",
    "        print(num,\"is not a Harshad number\")\n",
    "except Exception as e:\n",
    "    print(\"something went wrong\", e)"
   ]
  },
  {
   "cell_type": "markdown",
   "metadata": {},
   "source": [
    "Q. Write a Python program to print all pronic numbers between 1 and 100?"
   ]
  },
  {
   "cell_type": "code",
   "execution_count": 9,
   "metadata": {},
   "outputs": [
    {
     "name": "stdout",
     "output_type": "stream",
     "text": [
      "2\n",
      "6\n",
      "12\n",
      "20\n",
      "30\n",
      "42\n",
      "56\n",
      "72\n",
      "90\n"
     ]
    }
   ],
   "source": [
    "num = 1\n",
    "while(num <= 100):\n",
    "    ret = num * (num+1)\n",
    "    if ret > 100:\n",
    "        break\n",
    "    print(ret)\n",
    "    num += 1"
   ]
  },
  {
   "cell_type": "code",
   "execution_count": null,
   "metadata": {},
   "outputs": [],
   "source": []
  }
 ],
 "metadata": {
  "kernelspec": {
   "display_name": "Python 3",
   "language": "python",
   "name": "python3"
  },
  "language_info": {
   "codemirror_mode": {
    "name": "ipython",
    "version": 3
   },
   "file_extension": ".py",
   "mimetype": "text/x-python",
   "name": "python",
   "nbconvert_exporter": "python",
   "pygments_lexer": "ipython3",
   "version": "3.6.5"
  }
 },
 "nbformat": 4,
 "nbformat_minor": 2
}
