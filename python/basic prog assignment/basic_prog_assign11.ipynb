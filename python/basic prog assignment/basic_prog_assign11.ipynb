{
 "cells": [
  {
   "cell_type": "markdown",
   "metadata": {},
   "source": [
    "1. Write a Python program to find words which are greater than given length k?"
   ]
  },
  {
   "cell_type": "code",
   "execution_count": 1,
   "metadata": {},
   "outputs": [
    {
     "name": "stdout",
     "output_type": "stream",
     "text": [
      "Enter a sentence: hello!!! my name is steve and i am trying to complete my assignment\n",
      "Enter the length to find words:5\n",
      "Words that are greater than length 5\n",
      "hello!!!\n",
      "trying\n",
      "complete\n",
      "assignment\n"
     ]
    }
   ],
   "source": [
    "sent = str(input(\"Enter a sentence: \"))\n",
    "k = int(input(\"Enter the length to find words:\"))\n",
    "\n",
    "sentence = sent.split(\" \")\n",
    "print(\"Words that are greater than length\",k)\n",
    "for each_sent in sentence:\n",
    "    if len(each_sent) > k:\n",
    "        print(each_sent)"
   ]
  },
  {
   "cell_type": "markdown",
   "metadata": {},
   "source": [
    "Q. Write a Python program for removing i-th character from a string?"
   ]
  },
  {
   "cell_type": "code",
   "execution_count": 1,
   "metadata": {},
   "outputs": [
    {
     "data": {
      "text/plain": [
       "'hellomy name is steve'"
      ]
     },
     "execution_count": 1,
     "metadata": {},
     "output_type": "execute_result"
    }
   ],
   "source": [
    "def remove_char(sent, pos):\n",
    "    sent = sent.replace(sent[pos-1],\"\",1)\n",
    "    return sent\n",
    "\n",
    "remove_char(\"hello my name is steve\",6)\n"
   ]
  },
  {
   "cell_type": "markdown",
   "metadata": {},
   "source": [
    "Q. Write a Python program to split and join a string?"
   ]
  },
  {
   "cell_type": "code",
   "execution_count": 4,
   "metadata": {},
   "outputs": [
    {
     "name": "stdout",
     "output_type": "stream",
     "text": [
      "Enter a Sentence: Heyy, how's it going??\n",
      "Enter a delimeter with which you want to split:  \n"
     ]
    },
    {
     "data": {
      "text/plain": [
       "\"Heyy,how'sitgoing??\""
      ]
     },
     "execution_count": 4,
     "metadata": {},
     "output_type": "execute_result"
    }
   ],
   "source": [
    "def split_and_join(sent, delim):\n",
    "    if delim not in sent:\n",
    "        return \"The delimeter entered does not exist!\"\n",
    "    sentence = sent.split(delim)\n",
    "    return \"\".join(sentence)\n",
    "\n",
    "split_and_join(str(input(\"Enter a Sentence: \")), str(input(\"Enter a delimeter with which you want to split: \")))"
   ]
  },
  {
   "cell_type": "markdown",
   "metadata": {},
   "source": [
    "Q. Write a Python to check if a given string is binary string or not?"
   ]
  },
  {
   "cell_type": "code",
   "execution_count": 6,
   "metadata": {},
   "outputs": [
    {
     "name": "stdout",
     "output_type": "stream",
     "text": [
      "Enter a string:1gfd1110101111\n",
      "The entered string is not a binary string\n"
     ]
    }
   ],
   "source": [
    "sent = str(input(\"Enter a string:\"))\n",
    "count = 0\n",
    "for char in sent:\n",
    "    if char == '1' or char == '0':\n",
    "        count += 1\n",
    "if count == len(sent):\n",
    "    print(\"The entered string is a binary string\")\n",
    "else:\n",
    "    print(\"The entered string is not a binary string\")"
   ]
  },
  {
   "cell_type": "markdown",
   "metadata": {},
   "source": [
    "Q. Write a Python program to find uncommon words from two Strings?"
   ]
  },
  {
   "cell_type": "code",
   "execution_count": 11,
   "metadata": {},
   "outputs": [
    {
     "name": "stdout",
     "output_type": "stream",
     "text": [
      "Enter a sentence:this is a sentence\n",
      "Enter another sentence:and this is another sent\n",
      "\n",
      "Below are the uncommon words\n",
      "and\n",
      "another\n",
      "sent\n",
      "a\n",
      "sentence\n"
     ]
    }
   ],
   "source": [
    "sent1 = str(input(\"Enter a sentence:\"))\n",
    "sent2 = str(input(\"Enter another sentence:\"))\n",
    "print(\"\\nBelow are the uncommon words\")\n",
    "for word in sent2.split(\" \"):\n",
    "    if word not in sent1.split(\" \"):\n",
    "        print(word)\n",
    "        \n",
    "for word in sent1.split(\" \"):\n",
    "    if word not in sent2.split(\" \"):\n",
    "        print(word)"
   ]
  },
  {
   "cell_type": "markdown",
   "metadata": {},
   "source": [
    "Q. Write a Python to find all duplicate characters in string?"
   ]
  },
  {
   "cell_type": "code",
   "execution_count": 19,
   "metadata": {},
   "outputs": [
    {
     "name": "stdout",
     "output_type": "stream",
     "text": [
      "Enter a sentence:checking duplicate characters\n",
      "The list of duplicate characters:  ['c', 'h', 'e', 'i', 'a', 't', 'r']\n"
     ]
    }
   ],
   "source": [
    "sent = str(input(\"Enter a sentence:\"))\n",
    "sent = \"\".join(sent.split(\" \")) #to avoid spaces\n",
    "l = []\n",
    "for ch in sent:\n",
    "    dup = sent.count(ch)\n",
    "    if dup > 1:\n",
    "        if ch not in l:\n",
    "            l.append(ch)\n",
    "print(\"The list of duplicate characters: \", l)"
   ]
  },
  {
   "cell_type": "markdown",
   "metadata": {},
   "source": [
    "Q. Write a Python Program to check if a string contains any special character?"
   ]
  },
  {
   "cell_type": "code",
   "execution_count": 24,
   "metadata": {},
   "outputs": [
    {
     "name": "stdout",
     "output_type": "stream",
     "text": [
      "Enter a sentence:hello\n",
      "The string does not contain a special character\n"
     ]
    }
   ],
   "source": [
    "sent = str(input(\"Enter a sentence:\"))\n",
    "count = 0\n",
    "sp_char = ['!','@','#','$','%','^','&','*','(',')','_','-','+','=','[',']',';',':','\"',\"'\",',','<','>','/','\\\\','?','|','.']\n",
    "for ch in sent:\n",
    "    if ch in sp_char:\n",
    "        print(\"The string contains a special character\")\n",
    "        count = 1\n",
    "        break\n",
    "if count == 0:\n",
    "    print(\"The string does not contain a special character\")\n",
    "        \n"
   ]
  },
  {
   "cell_type": "code",
   "execution_count": null,
   "metadata": {},
   "outputs": [],
   "source": []
  }
 ],
 "metadata": {
  "kernelspec": {
   "display_name": "Python 3",
   "language": "python",
   "name": "python3"
  },
  "language_info": {
   "codemirror_mode": {
    "name": "ipython",
    "version": 3
   },
   "file_extension": ".py",
   "mimetype": "text/x-python",
   "name": "python",
   "nbconvert_exporter": "python",
   "pygments_lexer": "ipython3",
   "version": "3.6.5"
  }
 },
 "nbformat": 4,
 "nbformat_minor": 2
}
