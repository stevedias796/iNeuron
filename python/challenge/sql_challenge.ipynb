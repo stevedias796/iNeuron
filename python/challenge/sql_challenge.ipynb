{
 "cells": [
  {
   "cell_type": "code",
   "execution_count": 1,
   "metadata": {},
   "outputs": [],
   "source": [
    "import mysql.connector as conn\n",
    "import csv"
   ]
  },
  {
   "cell_type": "code",
   "execution_count": 2,
   "metadata": {},
   "outputs": [],
   "source": [
    "class Database:\n",
    "    def __init__(self, host, db, user, pwd, port):\n",
    "        self.host = host\n",
    "        self.db = db\n",
    "        self.user = user\n",
    "        self.pwd = pwd\n",
    "        self.port = port\n",
    "        \n",
    "    def connect_db(self, conn):\n",
    "        '''establishing connection with given db credentials. pass the connector/driver as argument. on success return the connection object'''\n",
    "        try:\n",
    "            mydb = conn.connect(host=self.host,database=self.db,user=self.user,passwd=self.pwd,port=self.port,use_pure=True)\n",
    "            return mydb\n",
    "        except Exception as e:\n",
    "            return e\n",
    "    \n",
    "    def execute_db(self, mydb, query):\n",
    "        '''executes any query and returns the cursor object. first argument is connection object and second argument is query'''\n",
    "        try:\n",
    "            cur = mydb.cursor()\n",
    "            cur.execute(query)\n",
    "            return cur\n",
    "        except Exception as e:\n",
    "            return e\n",
    "        "
   ]
  },
  {
   "cell_type": "code",
   "execution_count": 3,
   "metadata": {},
   "outputs": [
    {
     "name": "stdout",
     "output_type": "stream",
     "text": [
      "[(2.0, 1.0, 0.0, 679005.0, 0.0, 701318.0, 0.0, 17033.0, 0.0, 721039.0, 0.0, 730232.0, 0.0, 17014.0), (2.0, 1.0, 0.0, 679005.0, 0.0, 701318.0, 0.0, 17033.0, 0.0, 721039.0, 0.0, 730232.0, 0.0, 17014.0), (2.0, 1.0, 0.0, 717298.0, 0.0, 642129.0, 0.0, 231319.0, 0.0, 738414.0, 0.0, 65675.0, 0.0, 232369.0), (2.0, 1.0, 0.0, 489336.0, 0.0, 303751.0, 0.0, 88462.0, 0.0, 477676.0, 0.0, 263221.0, 0.0, 88712.0), (2.0, 1.0, 0.0, 413957.0, 0.0, 632996.0, 0.0, 40843.0, 0.0, 408823.0, 0.0, 657897.0, 0.0, 39796.0), (2.0, 1.0, 0.0, 334292.0, 0.0, 543401.0, 0.0, 15989.0, 0.0, 303349.0, 0.0, 558807.0, 0.0, 157373.0), (2.0, 1.0, 0.0, 510664.0, 0.0, 696249.0, 0.0, 255128.0, 0.0, 496977.0, 0.0, 725608.0, 0.0, 25597.0), (2.0, 1.0, 0.0, 413957.0, 0.0, 632996.0, 0.0, 374176.0, 0.0, 390878.0, 0.0, 657645.0, 0.0, 374735.0), (2.0, 1.0, 0.0, 712552.0, 0.0, 55479.0, 0.0, 112271.0, 0.0, 750056.0, 0.0, 561494.0, 0.0, 114944.0), (2.0, 1.0, 0.0, 320995.0, 0.0, 298682.0, 0.0, 1837.0, 0.0, 281301.0, 0.0, 261433.0, 0.0, 182779.0)]\n"
     ]
    }
   ],
   "source": [
    "#cur = mydb.cursor()\n",
    "#cur.execute(\"create table carbon_nanotube(x1 float,x2 float,x3 float,x4 float,x5 float,x6 float,x7 float,x8 float,x9 float,x10 float,x11 float,x12 float,x13 float,x14 float)\")\n",
    "\n",
    "db = Database('localhost','ineuron_prac','root','sql@123',3300)\n",
    "mydb = db.connect_db(conn)\n",
    "\n",
    "with open('carbon_nanotubes.data') as f:\n",
    "    data= csv.reader(f, delimiter='\\n')\n",
    "    for i,each_data in enumerate(data):\n",
    "        if i == 0:\n",
    "            #to ignore the first line of the file\n",
    "            continue\n",
    "        else:\n",
    "            sep_list = each_data[0].split(';')\n",
    "            sep_list = ','.join(sep_list)\n",
    "            query = \"insert into carbon_nanotube values(\"+sep_list+\")\"\n",
    "            #query = \"select * from carbon_nanotube limit 1\"\n",
    "            try:\n",
    "                data = db.execute_db(mydb, query)\n",
    "                mydb.commit() # this will raise an error in case of select query but will br handled by the below exception\n",
    "                #cur.execute(query)\n",
    "            except Exception as e:\n",
    "                continue\n",
    "\n",
    "#checking first 10 rows to see if data is inserted\n",
    "query = \"select * from carbon_nanotube limit 10\"\n",
    "data = db.execute_db(mydb, query)\n",
    "print(data.fetchall())\n",
    "\n",
    "mydb.close()"
   ]
  },
  {
   "cell_type": "code",
   "execution_count": null,
   "metadata": {},
   "outputs": [],
   "source": []
  },
  {
   "cell_type": "code",
   "execution_count": null,
   "metadata": {},
   "outputs": [],
   "source": []
  },
  {
   "cell_type": "code",
   "execution_count": null,
   "metadata": {},
   "outputs": [],
   "source": []
  },
  {
   "cell_type": "code",
   "execution_count": null,
   "metadata": {},
   "outputs": [],
   "source": []
  },
  {
   "cell_type": "code",
   "execution_count": null,
   "metadata": {},
   "outputs": [],
   "source": []
  }
 ],
 "metadata": {
  "kernelspec": {
   "display_name": "Python 3",
   "language": "python",
   "name": "python3"
  },
  "language_info": {
   "codemirror_mode": {
    "name": "ipython",
    "version": 3
   },
   "file_extension": ".py",
   "mimetype": "text/x-python",
   "name": "python",
   "nbconvert_exporter": "python",
   "pygments_lexer": "ipython3",
   "version": "3.6.5"
  }
 },
 "nbformat": 4,
 "nbformat_minor": 2
}
