{
 "cells": [
  {
   "cell_type": "markdown",
   "metadata": {},
   "source": [
    "1. What are the differences between operators and values in the following?\n",
    "*\n",
    "'hello'\n",
    "-87.8\n",
    "-\n",
    "/\n",
    "+\n",
    "6\n",
    "Answer:\n",
    "Operators - *, -, /, +\n",
    "Values – ‘hello’, -87.8, 6\n",
    "\n",
    "2. What is the difference between string and variable?\n",
    "spam\n",
    "'spam'\n",
    "Answer:\n",
    "String – ‘spam’ (since it is encapsulated within ‘’)\n",
    "Variable – spam\n",
    "\n",
    "3. Describe three different data forms.\n",
    "Answer\n",
    "String – Any value with character or characters encapsulated within inverted commas are of data type string\n",
    "Integer – All positive or negative whole numbers without decimal value are integers, with decimal are called float\n",
    "Boolean – A value which is True or False\n",
    "\n",
    "4. What makes up an expression? What are the functions of all expressions?\n",
    "Answer\n",
    "A combination of operands and operators make an expression. Even a single value is an expression. Expressions executes and gives a value\n",
    "\n",
    "5. In this chapter, assignment statements such as spam = 10 were added. What's the difference between a statement and an expression?\n",
    "Answer: Expression is something which gives a value or a value itself and statement is something that makes a line, also an expression can be a part of statement or a statement itself. In the example 10 is the expression and spam = 10 is the statement.\n",
    "\n",
    "6. After running the following code, what does the variable bacon contain?\n",
    "bacon = 22\n",
    "bacon + 1\n",
    "Answer:\n",
    "22\n",
    "\n",
    "7. What should the values of the following two terms be?\n",
    "'spam' + 'spamspam'\n",
    "'spam' * 3\n",
    "Answer:\n",
    "spamspamspam\n",
    "spamspamspam\n",
    "\n",
    "8. Why is it that eggs is a true variable name but 100 is not?\n",
    "Answer:\n",
    "Because variable name cannot start with a number\n",
    "\n",
    "9. Which of the following three functions may be used to convert a value to an integer, a floating-point number, or a string?\n",
    "Answer:\n",
    "int(), float(), str()\n",
    "\n",
    "10. What is the error caused by this expression? What would you do about it?\n",
    "'I have eaten ' + 99 + ' burritos.'\n",
    "Answer:\n",
    "It will give a type error since string type cannot be added to int type\n",
    "Solution would be typecasting:\n",
    "'I have eaten ' + '99' + ' burritos.' OR  'I have eaten ' + str(99) + ' burritos.'\n"
   ]
  },
  {
   "cell_type": "code",
   "execution_count": null,
   "metadata": {},
   "outputs": [],
   "source": []
  }
 ],
 "metadata": {
  "kernelspec": {
   "display_name": "Python 3",
   "language": "python",
   "name": "python3"
  },
  "language_info": {
   "codemirror_mode": {
    "name": "ipython",
    "version": 3
   },
   "file_extension": ".py",
   "mimetype": "text/x-python",
   "name": "python",
   "nbconvert_exporter": "python",
   "pygments_lexer": "ipython3",
   "version": "3.6.5"
  }
 },
 "nbformat": 4,
 "nbformat_minor": 2
}
